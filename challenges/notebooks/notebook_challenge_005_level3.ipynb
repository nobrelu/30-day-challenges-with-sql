{
 "cells": [
  {
   "cell_type": "markdown",
   "id": "160bbfb2",
   "metadata": {},
   "source": [
    "\n",
    "# Por favor tente resolver o desafio sozinho, não pegue atalhos, tu consegue, é só colocar a cabeça para funcionar."
   ]
  },
  {
   "cell_type": "markdown",
   "id": "e0e85531",
   "metadata": {},
   "source": [
    "Execute a célula abaixo apenas uma vez."
   ]
  },
  {
   "cell_type": "code",
   "execution_count": null,
   "id": "7d725090",
   "metadata": {},
   "outputs": [],
   "source": [
    "%%bash\n",
    "\n",
    "rm -rf /tmp/github; mkdir -p /tmp/github; cd /tmp/github\n",
    "git clone https://github.com/romeritomorais/30-day-challenges-with-sql.git\n",
    "sh /tmp/github/30-day-challenges-with-sql/challenges/utils/install-miniconda.sh > /dev/null 2>&1\n",
    "sh /tmp/github/30-day-challenges-with-sql/challenges/utils/update-miniconda.sh > /dev/null 2>&1"
   ]
  },
  {
   "cell_type": "markdown",
   "id": "467f1c4a",
   "metadata": {},
   "source": [
    "Nesse desafio eu preciso de uma transformação completa da tabela `Customer` \n",
    "1.concatene as colunas `Customer.FirstName` com `Customer.LastName` e gere uma coluna com a descrição `nome` onde apenas a primeira letra do nome seja Maiúscula.    \n",
    "2.concatene as colunas `Customer.City` com `Customer.State` e gere uma coluna com a descrição `cidade` onde apenas a coluna `Customer.State` seja Maiúscula. exemplo: belém-PA.     \n",
    "3.crie uma nova coluna denominada `cep` a partir da coluna `Customer.PostalCode` removendo todos os caracteres e convertendo o a coluna para o tipo de dados Integer.   \n",
    "4.a filtragem da tabela precisa pegar apenas os dados da país \"BRAZIL\" e o cep <> 0\n",
    "\n",
    "Critério:  \n",
    "e o critério principal é que voce escreva essa transformação em apenas uma query. Boa sorte\n",
    "\n",
    "\n",
    "resultado esperado:  \n",
    "\n",
    "|codigo|nome|endereco|cidade|pais|cep|telefone|Email\n",
    "|-----:|-----:|-----:|-----:|-----:|-----:|-----:|-----\n",
    "|1|Luís gonçalves|av. brigadeiro faria lima, 2170|são josé dos campos-SP|BRAZIL|12227000|551239235555|luisg@embraer.com.br\n",
    "|10|Eduardo martins|rua dr. falcão filho, 155|são paulo-SP|BRAZIL|1007010|551130335446|eduardo@woodstock.com.br\n",
    "|11|Alexandre rocha|av. paulista, 2022|são paulo-SP|BRAZIL|1310200|551130553278|alero@uol.com.br\n",
    "|12|Roberto almeida|praça pio x, 119|rio de janeiro-RJ|BRAZIL|20040020|552122717000|roberto.almeida@riotur.gov.br\n",
    "|13|Fernanda ramos|qe 7 bloco g|brasília-DF|BRAZIL|71020677|556133635547|fernadaramos4@uol.com.br\n",
    "\n",
    "Na celula onde tem `%%sql` tu vai escrever a query abaixo dela, exemplo:  \n",
    "```python\n",
    "%%sql\n",
    "select * from Customer\n",
    "```\n",
    "\n",
    "Para resolução tu podes usar a documentação do sqlite:https://www.sqlite.org/docs.html"
   ]
  },
  {
   "cell_type": "code",
   "execution_count": null,
   "id": "981a5488",
   "metadata": {},
   "outputs": [],
   "source": [
    "%load_ext sql\n",
    "%sql sqlite://///tmp/github/30-day-challenges-with-sql/challenges/utils/db/database.db"
   ]
  },
  {
   "cell_type": "code",
   "execution_count": null,
   "id": "275157e9",
   "metadata": {},
   "outputs": [],
   "source": [
    "%%sql\n"
   ]
  }
 ],
 "metadata": {
  "kernelspec": {
   "display_name": "Python 3",
   "language": "python",
   "name": "python3"
  },
  "language_info": {
   "codemirror_mode": {
    "name": "ipython",
    "version": 3
   },
   "file_extension": ".py",
   "mimetype": "text/x-python",
   "name": "python",
   "nbconvert_exporter": "python",
   "pygments_lexer": "ipython3",
   "version": "3.10.4"
  }
 },
 "nbformat": 4,
 "nbformat_minor": 5
}
