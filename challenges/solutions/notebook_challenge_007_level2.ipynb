{
  "cells": [
    {
      "cell_type": "markdown",
      "metadata": {
        "id": "view-in-github",
        "colab_type": "text"
      },
      "source": [
        "<a href=\"https://colab.research.google.com/github/nobrelu/30-day-challenges-with-sql/blob/main/challenges/notebooks/notebook_challenge_007_level2.ipynb\" target=\"_parent\"><img src=\"https://colab.research.google.com/assets/colab-badge.svg\" alt=\"Open In Colab\"/></a>"
      ]
    },
    {
      "cell_type": "markdown",
      "id": "160bbfb2",
      "metadata": {
        "id": "160bbfb2"
      },
      "source": [
        "# Por favor tente resolver o desafio sozinho, não pegue atalhos, tu consegue, é só colocar a cabeça para funcionar."
      ]
    },
    {
      "cell_type": "markdown",
      "id": "e0e85531",
      "metadata": {
        "id": "e0e85531"
      },
      "source": [
        "Execute a célula abaixo apenas uma vez."
      ]
    },
    {
      "cell_type": "code",
      "execution_count": 1,
      "id": "7d725090",
      "metadata": {
        "id": "7d725090",
        "outputId": "bd1ffc16-39c2-4c8a-8f24-5b54c01b8a34",
        "colab": {
          "base_uri": "https://localhost:8080/"
        }
      },
      "outputs": [
        {
          "output_type": "stream",
          "name": "stderr",
          "text": [
            "Cloning into '30-day-challenges-with-sql'...\n"
          ]
        }
      ],
      "source": [
        "%%bash\n",
        "\n",
        "rm -rf /tmp/github; mkdir -p /tmp/github; cd /tmp/github\n",
        "git clone https://github.com/romeritomorais/30-day-challenges-with-sql.git\n",
        "sh /tmp/github/30-day-challenges-with-sql/challenges/utils/install-miniconda.sh > /dev/null 2>&1\n",
        "sh /tmp/github/30-day-challenges-with-sql/challenges/utils/update-miniconda.sh > /dev/null 2>&1"
      ]
    },
    {
      "cell_type": "markdown",
      "id": "467f1c4a",
      "metadata": {
        "id": "467f1c4a"
      },
      "source": [
        "Neste desafio precisamos criar uma nova tabela chamada `Track2` oriunda da transformação das tabelas: `Track`, `Album`, `Artist` e `Genre`. Vale lembrar que a tabela `Track` é a tabela da esquerda que será a base para realizarmos os relacionamentos. Utilize JOIN para resolver este problema.\n",
        "\n",
        "Critério:  \n",
        "Escreva essa transformação em apenas uma query. Boa sorte!\n",
        "\n",
        "resultado esperado:  \n",
        "\n",
        "|TrackId|artista             |musica                                      |compositor                                                                 |genero            |size_mb\n",
        "|-------:|-------------------:|-------------------------------------------:|-------------------------------------------------------------------------:|-----------------:|-------\n",
        "|      1|AC/DC               |For Those About To Rock (We Salute You)     |Angus Young, Malcolm Young, Brian Johnson                                  |Rock              |  10908\n",
        "|      2|Accept              |Balls to the Wall                           |                                                                           |Rock              |   5381\n",
        "|      3|Accept              |Fast As a Shark                             |F. Baltes, S. Kaufman, U. Dirkscneider & W. Hoffman                        |Rock              |   3897\n",
        "|     4|Accept              |Restless and Wild                           |F. Baltes, R.A. Smith-Diesel, S. Kaufman, U. Dirkscneider & W. Hoffman     |Rock              |   4230\n",
        "|      5|Accept              |Princess of the Dawn                        |Deaffy & R.A. Smith-Diesel                                                 |Rock              |   6143\n",
        "|      6|AC/DC               |Put The Finger On You                       |Angus Young, Malcolm Young, Brian Johnson                                  |Rock              |   6556\n",
        "|      7|AC/DC               |Let's Get It Up                             |Angus Young, Malcolm Young, Brian Johnson                                  |Rock              |   7457\n",
        "|      8|AC/DC               |Inject The Venom                            |Angus Young, Malcolm Young, Brian Johnson                                  |Rock              |   6692\n",
        "|      9|AC/DC               |Snowballed                                  |Angus Young, Malcolm Young, Brian Johnson                                  |Rock              |   6444\n",
        "|     10|AC/DC               |Evil Walks                                  |Angus Young, Malcolm Young, Brian Johnson                                  |Rock              |   8409\n",
        "|     11|AC/DC               |C.O.D.                                      |Angus Young, Malcolm Young, Brian Johnson                                  |Rock              |   6412\n",
        "|     12|AC/DC               |Breaking The Rules                          |Angus Young, Malcolm Young, Brian Johnson                                  |Rock              |   8395\n",
        "|     13|AC/DC               |Night Of The Long Knives                    |Angus Young, Malcolm Young, Brian Johnson                                  |Rock              |   6549\n",
        "|     14|AC/DC               |Spellbound                                  |Angus Young, Malcolm Young, Brian Johnson                                  |Rock              |   8610\n",
        "|     15|AC/DC               |Go Down                                     |AC/DC                                                                      |Rock              |  10593\n",
        "|     16|AC/DC               |Dog Eat Dog                                 |AC/DC                                                                      |Rock              |   6867\n",
        "|     17|AC/DC               |Let There Be Rock                           |AC/DC                                                                      |Rock              |  11739\n",
        "|     18|AC/DC               |Bad Boy Boogie                              |AC/DC                                                                      |Rock              |   8570\n",
        "|     19|AC/DC               |Problem Child                               |AC/DC                                                                      |Rock              |  10368\n",
        "|     20|AC/DC               |Overdose                                    |AC/DC                                                                      |Rock              |  11783\n",
        "|     21|AC/DC               |Hell Ain't A Bad Place To Be                |AC/DC                                                                      |Rock              |   8136\n",
        "\n",
        "Na célula onde se encontra o `%%sql`, escreva sua query, sem deletar o comando. Exemplo:  \n",
        "```python\n",
        "%%sql\n",
        "select * from Customer\n",
        "```\n",
        "\n",
        "Para resolução utilize a documentação do sqlite:https://www.sqlite.org/docs.html"
      ]
    },
    {
      "cell_type": "code",
      "execution_count": 2,
      "id": "2b36ffcd-323a-452a-a6a1-433be0285405",
      "metadata": {
        "id": "2b36ffcd-323a-452a-a6a1-433be0285405",
        "outputId": "01741081-28c2-401a-de42-38cadb3bbfe8",
        "colab": {
          "base_uri": "https://localhost:8080/",
          "height": 35
        }
      },
      "outputs": [
        {
          "output_type": "execute_result",
          "data": {
            "text/plain": [
              "'Connected: @//tmp/github/30-day-challenges-with-sql/challenges/utils/db/database.db'"
            ],
            "application/vnd.google.colaboratory.intrinsic+json": {
              "type": "string"
            }
          },
          "metadata": {},
          "execution_count": 2
        }
      ],
      "source": [
        "%load_ext sql\n",
        "%sql sqlite://///tmp/github/30-day-challenges-with-sql/challenges/utils/db/database.db"
      ]
    },
    {
      "cell_type": "code",
      "execution_count": 3,
      "id": "275157e9",
      "metadata": {
        "id": "275157e9",
        "outputId": "97501500-61d4-4dfa-9c9a-e46de5e73aa2",
        "colab": {
          "base_uri": "https://localhost:8080/",
          "height": 289
        }
      },
      "outputs": [
        {
          "output_type": "stream",
          "name": "stdout",
          "text": [
            " * sqlite://///tmp/github/30-day-challenges-with-sql/challenges/utils/db/database.db\n",
            "Done.\n"
          ]
        },
        {
          "output_type": "execute_result",
          "data": {
            "text/plain": [
              "[(1, 'For Those About To Rock (We Salute You)', 1, 1, 1, 'Angus Young, Malcolm Young, Brian Johnson', 343719, 11170334, 0.99),\n",
              " (2, 'Balls to the Wall', 2, 2, 1, None, 342562, 5510424, 0.99),\n",
              " (3, 'Fast As a Shark', 3, 2, 1, 'F. Baltes, S. Kaufman, U. Dirkscneider & W. Hoffman', 230619, 3990994, 0.99),\n",
              " (4, 'Restless and Wild', 3, 2, 1, 'F. Baltes, R.A. Smith-Diesel, S. Kaufman, U. Dirkscneider & W. Hoffman', 252051, 4331779, 0.99),\n",
              " (5, 'Princess of the Dawn', 3, 2, 1, 'Deaffy & R.A. Smith-Diesel', 375418, 6290521, 0.99),\n",
              " (6, 'Put The Finger On You', 1, 1, 1, 'Angus Young, Malcolm Young, Brian Johnson', 205662, 6713451, 0.99),\n",
              " (7, \"Let's Get It Up\", 1, 1, 1, 'Angus Young, Malcolm Young, Brian Johnson', 233926, 7636561, 0.99),\n",
              " (8, 'Inject The Venom', 1, 1, 1, 'Angus Young, Malcolm Young, Brian Johnson', 210834, 6852860, 0.99),\n",
              " (9, 'Snowballed', 1, 1, 1, 'Angus Young, Malcolm Young, Brian Johnson', 203102, 6599424, 0.99),\n",
              " (10, 'Evil Walks', 1, 1, 1, 'Angus Young, Malcolm Young, Brian Johnson', 263497, 8611245, 0.99)]"
            ],
            "text/html": [
              "<table>\n",
              "    <thead>\n",
              "        <tr>\n",
              "            <th>TrackId</th>\n",
              "            <th>Name</th>\n",
              "            <th>AlbumId</th>\n",
              "            <th>MediaTypeId</th>\n",
              "            <th>GenreId</th>\n",
              "            <th>Composer</th>\n",
              "            <th>Milliseconds</th>\n",
              "            <th>Bytes</th>\n",
              "            <th>UnitPrice</th>\n",
              "        </tr>\n",
              "    </thead>\n",
              "    <tbody>\n",
              "        <tr>\n",
              "            <td>1</td>\n",
              "            <td>For Those About To Rock (We Salute You)</td>\n",
              "            <td>1</td>\n",
              "            <td>1</td>\n",
              "            <td>1</td>\n",
              "            <td>Angus Young, Malcolm Young, Brian Johnson</td>\n",
              "            <td>343719</td>\n",
              "            <td>11170334</td>\n",
              "            <td>0.99</td>\n",
              "        </tr>\n",
              "        <tr>\n",
              "            <td>2</td>\n",
              "            <td>Balls to the Wall</td>\n",
              "            <td>2</td>\n",
              "            <td>2</td>\n",
              "            <td>1</td>\n",
              "            <td>None</td>\n",
              "            <td>342562</td>\n",
              "            <td>5510424</td>\n",
              "            <td>0.99</td>\n",
              "        </tr>\n",
              "        <tr>\n",
              "            <td>3</td>\n",
              "            <td>Fast As a Shark</td>\n",
              "            <td>3</td>\n",
              "            <td>2</td>\n",
              "            <td>1</td>\n",
              "            <td>F. Baltes, S. Kaufman, U. Dirkscneider &amp; W. Hoffman</td>\n",
              "            <td>230619</td>\n",
              "            <td>3990994</td>\n",
              "            <td>0.99</td>\n",
              "        </tr>\n",
              "        <tr>\n",
              "            <td>4</td>\n",
              "            <td>Restless and Wild</td>\n",
              "            <td>3</td>\n",
              "            <td>2</td>\n",
              "            <td>1</td>\n",
              "            <td>F. Baltes, R.A. Smith-Diesel, S. Kaufman, U. Dirkscneider &amp; W. Hoffman</td>\n",
              "            <td>252051</td>\n",
              "            <td>4331779</td>\n",
              "            <td>0.99</td>\n",
              "        </tr>\n",
              "        <tr>\n",
              "            <td>5</td>\n",
              "            <td>Princess of the Dawn</td>\n",
              "            <td>3</td>\n",
              "            <td>2</td>\n",
              "            <td>1</td>\n",
              "            <td>Deaffy &amp; R.A. Smith-Diesel</td>\n",
              "            <td>375418</td>\n",
              "            <td>6290521</td>\n",
              "            <td>0.99</td>\n",
              "        </tr>\n",
              "        <tr>\n",
              "            <td>6</td>\n",
              "            <td>Put The Finger On You</td>\n",
              "            <td>1</td>\n",
              "            <td>1</td>\n",
              "            <td>1</td>\n",
              "            <td>Angus Young, Malcolm Young, Brian Johnson</td>\n",
              "            <td>205662</td>\n",
              "            <td>6713451</td>\n",
              "            <td>0.99</td>\n",
              "        </tr>\n",
              "        <tr>\n",
              "            <td>7</td>\n",
              "            <td>Let&#x27;s Get It Up</td>\n",
              "            <td>1</td>\n",
              "            <td>1</td>\n",
              "            <td>1</td>\n",
              "            <td>Angus Young, Malcolm Young, Brian Johnson</td>\n",
              "            <td>233926</td>\n",
              "            <td>7636561</td>\n",
              "            <td>0.99</td>\n",
              "        </tr>\n",
              "        <tr>\n",
              "            <td>8</td>\n",
              "            <td>Inject The Venom</td>\n",
              "            <td>1</td>\n",
              "            <td>1</td>\n",
              "            <td>1</td>\n",
              "            <td>Angus Young, Malcolm Young, Brian Johnson</td>\n",
              "            <td>210834</td>\n",
              "            <td>6852860</td>\n",
              "            <td>0.99</td>\n",
              "        </tr>\n",
              "        <tr>\n",
              "            <td>9</td>\n",
              "            <td>Snowballed</td>\n",
              "            <td>1</td>\n",
              "            <td>1</td>\n",
              "            <td>1</td>\n",
              "            <td>Angus Young, Malcolm Young, Brian Johnson</td>\n",
              "            <td>203102</td>\n",
              "            <td>6599424</td>\n",
              "            <td>0.99</td>\n",
              "        </tr>\n",
              "        <tr>\n",
              "            <td>10</td>\n",
              "            <td>Evil Walks</td>\n",
              "            <td>1</td>\n",
              "            <td>1</td>\n",
              "            <td>1</td>\n",
              "            <td>Angus Young, Malcolm Young, Brian Johnson</td>\n",
              "            <td>263497</td>\n",
              "            <td>8611245</td>\n",
              "            <td>0.99</td>\n",
              "        </tr>\n",
              "    </tbody>\n",
              "</table>"
            ]
          },
          "metadata": {},
          "execution_count": 3
        }
      ],
      "source": [
        "%%sql\n",
        "select * from Track limit 10"
      ]
    },
    {
      "cell_type": "code",
      "source": [
        "%%sql\n",
        "select TrackId, Composer  from Track limit 2"
      ],
      "metadata": {
        "id": "vmuMXQ2AIor-",
        "outputId": "ee6bf50f-b1ac-4bc5-a358-b012b5152537",
        "colab": {
          "base_uri": "https://localhost:8080/",
          "height": 118
        }
      },
      "id": "vmuMXQ2AIor-",
      "execution_count": 7,
      "outputs": [
        {
          "output_type": "stream",
          "name": "stdout",
          "text": [
            " * sqlite://///tmp/github/30-day-challenges-with-sql/challenges/utils/db/database.db\n",
            "Done.\n"
          ]
        },
        {
          "output_type": "execute_result",
          "data": {
            "text/plain": [
              "[(1, 'Angus Young, Malcolm Young, Brian Johnson'), (2, None)]"
            ],
            "text/html": [
              "<table>\n",
              "    <thead>\n",
              "        <tr>\n",
              "            <th>TrackId</th>\n",
              "            <th>Composer</th>\n",
              "        </tr>\n",
              "    </thead>\n",
              "    <tbody>\n",
              "        <tr>\n",
              "            <td>1</td>\n",
              "            <td>Angus Young, Malcolm Young, Brian Johnson</td>\n",
              "        </tr>\n",
              "        <tr>\n",
              "            <td>2</td>\n",
              "            <td>None</td>\n",
              "        </tr>\n",
              "    </tbody>\n",
              "</table>"
            ]
          },
          "metadata": {},
          "execution_count": 7
        }
      ]
    },
    {
      "cell_type": "code",
      "source": [
        "%%sql\n",
        "select AlbumId, Title, ArtistId from Album limit 10"
      ],
      "metadata": {
        "id": "dL7zDHiWIRHF",
        "outputId": "1d642097-0ab0-4d1a-bf14-2d90e38e5812",
        "colab": {
          "base_uri": "https://localhost:8080/",
          "height": 289
        }
      },
      "id": "dL7zDHiWIRHF",
      "execution_count": 14,
      "outputs": [
        {
          "output_type": "stream",
          "name": "stdout",
          "text": [
            " * sqlite://///tmp/github/30-day-challenges-with-sql/challenges/utils/db/database.db\n",
            "Done.\n"
          ]
        },
        {
          "output_type": "execute_result",
          "data": {
            "text/plain": [
              "[(1, 'For Those About To Rock We Salute You', 1),\n",
              " (2, 'Balls to the Wall', 2),\n",
              " (3, 'Restless and Wild', 2),\n",
              " (4, 'Let There Be Rock', 1),\n",
              " (5, 'Big Ones', 3),\n",
              " (6, 'Jagged Little Pill', 4),\n",
              " (7, 'Facelift', 5),\n",
              " (8, 'Warner 25 Anos', 6),\n",
              " (9, 'Plays Metallica By Four Cellos', 7),\n",
              " (10, 'Audioslave', 8)]"
            ],
            "text/html": [
              "<table>\n",
              "    <thead>\n",
              "        <tr>\n",
              "            <th>AlbumId</th>\n",
              "            <th>Title</th>\n",
              "            <th>ArtistId</th>\n",
              "        </tr>\n",
              "    </thead>\n",
              "    <tbody>\n",
              "        <tr>\n",
              "            <td>1</td>\n",
              "            <td>For Those About To Rock We Salute You</td>\n",
              "            <td>1</td>\n",
              "        </tr>\n",
              "        <tr>\n",
              "            <td>2</td>\n",
              "            <td>Balls to the Wall</td>\n",
              "            <td>2</td>\n",
              "        </tr>\n",
              "        <tr>\n",
              "            <td>3</td>\n",
              "            <td>Restless and Wild</td>\n",
              "            <td>2</td>\n",
              "        </tr>\n",
              "        <tr>\n",
              "            <td>4</td>\n",
              "            <td>Let There Be Rock</td>\n",
              "            <td>1</td>\n",
              "        </tr>\n",
              "        <tr>\n",
              "            <td>5</td>\n",
              "            <td>Big Ones</td>\n",
              "            <td>3</td>\n",
              "        </tr>\n",
              "        <tr>\n",
              "            <td>6</td>\n",
              "            <td>Jagged Little Pill</td>\n",
              "            <td>4</td>\n",
              "        </tr>\n",
              "        <tr>\n",
              "            <td>7</td>\n",
              "            <td>Facelift</td>\n",
              "            <td>5</td>\n",
              "        </tr>\n",
              "        <tr>\n",
              "            <td>8</td>\n",
              "            <td>Warner 25 Anos</td>\n",
              "            <td>6</td>\n",
              "        </tr>\n",
              "        <tr>\n",
              "            <td>9</td>\n",
              "            <td>Plays Metallica By Four Cellos</td>\n",
              "            <td>7</td>\n",
              "        </tr>\n",
              "        <tr>\n",
              "            <td>10</td>\n",
              "            <td>Audioslave</td>\n",
              "            <td>8</td>\n",
              "        </tr>\n",
              "    </tbody>\n",
              "</table>"
            ]
          },
          "metadata": {},
          "execution_count": 14
        }
      ]
    },
    {
      "cell_type": "code",
      "source": [
        "%%sql\n",
        "select * from Artist limit 10\n",
        "--ArtistId"
      ],
      "metadata": {
        "id": "bH9MA_VjIRAU",
        "outputId": "76e2f8c8-70f9-44cb-b0c9-17f32e8ff802",
        "colab": {
          "base_uri": "https://localhost:8080/",
          "height": 289
        }
      },
      "id": "bH9MA_VjIRAU",
      "execution_count": 5,
      "outputs": [
        {
          "output_type": "stream",
          "name": "stdout",
          "text": [
            " * sqlite://///tmp/github/30-day-challenges-with-sql/challenges/utils/db/database.db\n",
            "Done.\n"
          ]
        },
        {
          "output_type": "execute_result",
          "data": {
            "text/plain": [
              "[(1, 'AC/DC'),\n",
              " (2, 'Accept'),\n",
              " (3, 'Aerosmith'),\n",
              " (4, 'Alanis Morissette'),\n",
              " (5, 'Alice In Chains'),\n",
              " (6, 'Antônio Carlos Jobim'),\n",
              " (7, 'Apocalyptica'),\n",
              " (8, 'Audioslave'),\n",
              " (9, 'BackBeat'),\n",
              " (10, 'Billy Cobham')]"
            ],
            "text/html": [
              "<table>\n",
              "    <thead>\n",
              "        <tr>\n",
              "            <th>ArtistId</th>\n",
              "            <th>Name</th>\n",
              "        </tr>\n",
              "    </thead>\n",
              "    <tbody>\n",
              "        <tr>\n",
              "            <td>1</td>\n",
              "            <td>AC/DC</td>\n",
              "        </tr>\n",
              "        <tr>\n",
              "            <td>2</td>\n",
              "            <td>Accept</td>\n",
              "        </tr>\n",
              "        <tr>\n",
              "            <td>3</td>\n",
              "            <td>Aerosmith</td>\n",
              "        </tr>\n",
              "        <tr>\n",
              "            <td>4</td>\n",
              "            <td>Alanis Morissette</td>\n",
              "        </tr>\n",
              "        <tr>\n",
              "            <td>5</td>\n",
              "            <td>Alice In Chains</td>\n",
              "        </tr>\n",
              "        <tr>\n",
              "            <td>6</td>\n",
              "            <td>Antônio Carlos Jobim</td>\n",
              "        </tr>\n",
              "        <tr>\n",
              "            <td>7</td>\n",
              "            <td>Apocalyptica</td>\n",
              "        </tr>\n",
              "        <tr>\n",
              "            <td>8</td>\n",
              "            <td>Audioslave</td>\n",
              "        </tr>\n",
              "        <tr>\n",
              "            <td>9</td>\n",
              "            <td>BackBeat</td>\n",
              "        </tr>\n",
              "        <tr>\n",
              "            <td>10</td>\n",
              "            <td>Billy Cobham</td>\n",
              "        </tr>\n",
              "    </tbody>\n",
              "</table>"
            ]
          },
          "metadata": {},
          "execution_count": 5
        }
      ]
    },
    {
      "cell_type": "code",
      "source": [
        "%%sql\n",
        "select * from Genre limit 10\n",
        "--GenreId"
      ],
      "metadata": {
        "id": "s9OAolc7IQyV",
        "outputId": "3f9793ed-f7af-48cf-b325-dd85655e17cc",
        "colab": {
          "base_uri": "https://localhost:8080/",
          "height": 289
        }
      },
      "id": "s9OAolc7IQyV",
      "execution_count": 9,
      "outputs": [
        {
          "output_type": "stream",
          "name": "stdout",
          "text": [
            " * sqlite://///tmp/github/30-day-challenges-with-sql/challenges/utils/db/database.db\n",
            "Done.\n"
          ]
        },
        {
          "output_type": "execute_result",
          "data": {
            "text/plain": [
              "[(1, 'Rock'),\n",
              " (2, 'Jazz'),\n",
              " (3, 'Metal'),\n",
              " (4, 'Alternative & Punk'),\n",
              " (5, 'Rock And Roll'),\n",
              " (6, 'Blues'),\n",
              " (7, 'Latin'),\n",
              " (8, 'Reggae'),\n",
              " (9, 'Pop'),\n",
              " (10, 'Soundtrack')]"
            ],
            "text/html": [
              "<table>\n",
              "    <thead>\n",
              "        <tr>\n",
              "            <th>GenreId</th>\n",
              "            <th>Name</th>\n",
              "        </tr>\n",
              "    </thead>\n",
              "    <tbody>\n",
              "        <tr>\n",
              "            <td>1</td>\n",
              "            <td>Rock</td>\n",
              "        </tr>\n",
              "        <tr>\n",
              "            <td>2</td>\n",
              "            <td>Jazz</td>\n",
              "        </tr>\n",
              "        <tr>\n",
              "            <td>3</td>\n",
              "            <td>Metal</td>\n",
              "        </tr>\n",
              "        <tr>\n",
              "            <td>4</td>\n",
              "            <td>Alternative &amp; Punk</td>\n",
              "        </tr>\n",
              "        <tr>\n",
              "            <td>5</td>\n",
              "            <td>Rock And Roll</td>\n",
              "        </tr>\n",
              "        <tr>\n",
              "            <td>6</td>\n",
              "            <td>Blues</td>\n",
              "        </tr>\n",
              "        <tr>\n",
              "            <td>7</td>\n",
              "            <td>Latin</td>\n",
              "        </tr>\n",
              "        <tr>\n",
              "            <td>8</td>\n",
              "            <td>Reggae</td>\n",
              "        </tr>\n",
              "        <tr>\n",
              "            <td>9</td>\n",
              "            <td>Pop</td>\n",
              "        </tr>\n",
              "        <tr>\n",
              "            <td>10</td>\n",
              "            <td>Soundtrack</td>\n",
              "        </tr>\n",
              "    </tbody>\n",
              "</table>"
            ]
          },
          "metadata": {},
          "execution_count": 9
        }
      ]
    },
    {
      "cell_type": "code",
      "source": [
        "%%sql\n",
        "with cte_track as \n",
        "(\n",
        "    select t1.TrackId, t1.Name as musica, t1.Composer as compositor, cast(t1.Bytes as int) / 1024 as size_mb, t1.AlbumId, t1.GenreId \n",
        "    from Track as t1\n",
        "    \n",
        ")\n",
        ",cte_album as\n",
        "(\n",
        "  select t2.AlbumId, t2.Title, t2.ArtistId from Album as t2\n",
        ")\n",
        ",cte_artista as\n",
        "(\n",
        "  select t3.ArtistId, t3.Name as artista from Artist  as t3\n",
        "  \n",
        ")\n",
        ",cte_genero as\n",
        "(\n",
        "  select t4.GenreId, t4.Name as genero from Genre as t4\n",
        ")\n",
        "\n",
        "select t1.TrackId, t3.artista, t1.musica, t1.compositor,  t4.genero, t1.size_mb from cte_track as t1\n",
        "left join cte_album as t2 on (t1.AlbumId = t2.AlbumId) \n",
        "left join cte_artista as t3 on (t2.ArtistId = t3.ArtistId) \n",
        "left join cte_genero as t4 on ( t1.GenreId = t4.GenreId) \n",
        "order by t1.TrackId\n",
        "limit 21"
      ],
      "metadata": {
        "id": "6BOgSFoPJkMV",
        "outputId": "919726da-585a-4731-fee0-df2bb886e95c",
        "colab": {
          "base_uri": "https://localhost:8080/",
          "height": 524
        }
      },
      "id": "6BOgSFoPJkMV",
      "execution_count": 51,
      "outputs": [
        {
          "output_type": "stream",
          "name": "stdout",
          "text": [
            " * sqlite://///tmp/github/30-day-challenges-with-sql/challenges/utils/db/database.db\n",
            "Done.\n"
          ]
        },
        {
          "output_type": "execute_result",
          "data": {
            "text/plain": [
              "[(1, 'AC/DC', 'For Those About To Rock (We Salute You)', 'Angus Young, Malcolm Young, Brian Johnson', 'Rock', 10908),\n",
              " (2, 'Accept', 'Balls to the Wall', None, 'Rock', 5381),\n",
              " (3, 'Accept', 'Fast As a Shark', 'F. Baltes, S. Kaufman, U. Dirkscneider & W. Hoffman', 'Rock', 3897),\n",
              " (4, 'Accept', 'Restless and Wild', 'F. Baltes, R.A. Smith-Diesel, S. Kaufman, U. Dirkscneider & W. Hoffman', 'Rock', 4230),\n",
              " (5, 'Accept', 'Princess of the Dawn', 'Deaffy & R.A. Smith-Diesel', 'Rock', 6143),\n",
              " (6, 'AC/DC', 'Put The Finger On You', 'Angus Young, Malcolm Young, Brian Johnson', 'Rock', 6556),\n",
              " (7, 'AC/DC', \"Let's Get It Up\", 'Angus Young, Malcolm Young, Brian Johnson', 'Rock', 7457),\n",
              " (8, 'AC/DC', 'Inject The Venom', 'Angus Young, Malcolm Young, Brian Johnson', 'Rock', 6692),\n",
              " (9, 'AC/DC', 'Snowballed', 'Angus Young, Malcolm Young, Brian Johnson', 'Rock', 6444),\n",
              " (10, 'AC/DC', 'Evil Walks', 'Angus Young, Malcolm Young, Brian Johnson', 'Rock', 8409),\n",
              " (11, 'AC/DC', 'C.O.D.', 'Angus Young, Malcolm Young, Brian Johnson', 'Rock', 6412),\n",
              " (12, 'AC/DC', 'Breaking The Rules', 'Angus Young, Malcolm Young, Brian Johnson', 'Rock', 8395),\n",
              " (13, 'AC/DC', 'Night Of The Long Knives', 'Angus Young, Malcolm Young, Brian Johnson', 'Rock', 6549),\n",
              " (14, 'AC/DC', 'Spellbound', 'Angus Young, Malcolm Young, Brian Johnson', 'Rock', 8610),\n",
              " (15, 'AC/DC', 'Go Down', 'AC/DC', 'Rock', 10593),\n",
              " (16, 'AC/DC', 'Dog Eat Dog', 'AC/DC', 'Rock', 6867),\n",
              " (17, 'AC/DC', 'Let There Be Rock', 'AC/DC', 'Rock', 11739),\n",
              " (18, 'AC/DC', 'Bad Boy Boogie', 'AC/DC', 'Rock', 8570),\n",
              " (19, 'AC/DC', 'Problem Child', 'AC/DC', 'Rock', 10368),\n",
              " (20, 'AC/DC', 'Overdose', 'AC/DC', 'Rock', 11783),\n",
              " (21, 'AC/DC', \"Hell Ain't A Bad Place To Be\", 'AC/DC', 'Rock', 8136)]"
            ],
            "text/html": [
              "<table>\n",
              "    <thead>\n",
              "        <tr>\n",
              "            <th>TrackId</th>\n",
              "            <th>artista</th>\n",
              "            <th>musica</th>\n",
              "            <th>compositor</th>\n",
              "            <th>genero</th>\n",
              "            <th>size_mb</th>\n",
              "        </tr>\n",
              "    </thead>\n",
              "    <tbody>\n",
              "        <tr>\n",
              "            <td>1</td>\n",
              "            <td>AC/DC</td>\n",
              "            <td>For Those About To Rock (We Salute You)</td>\n",
              "            <td>Angus Young, Malcolm Young, Brian Johnson</td>\n",
              "            <td>Rock</td>\n",
              "            <td>10908</td>\n",
              "        </tr>\n",
              "        <tr>\n",
              "            <td>2</td>\n",
              "            <td>Accept</td>\n",
              "            <td>Balls to the Wall</td>\n",
              "            <td>None</td>\n",
              "            <td>Rock</td>\n",
              "            <td>5381</td>\n",
              "        </tr>\n",
              "        <tr>\n",
              "            <td>3</td>\n",
              "            <td>Accept</td>\n",
              "            <td>Fast As a Shark</td>\n",
              "            <td>F. Baltes, S. Kaufman, U. Dirkscneider &amp; W. Hoffman</td>\n",
              "            <td>Rock</td>\n",
              "            <td>3897</td>\n",
              "        </tr>\n",
              "        <tr>\n",
              "            <td>4</td>\n",
              "            <td>Accept</td>\n",
              "            <td>Restless and Wild</td>\n",
              "            <td>F. Baltes, R.A. Smith-Diesel, S. Kaufman, U. Dirkscneider &amp; W. Hoffman</td>\n",
              "            <td>Rock</td>\n",
              "            <td>4230</td>\n",
              "        </tr>\n",
              "        <tr>\n",
              "            <td>5</td>\n",
              "            <td>Accept</td>\n",
              "            <td>Princess of the Dawn</td>\n",
              "            <td>Deaffy &amp; R.A. Smith-Diesel</td>\n",
              "            <td>Rock</td>\n",
              "            <td>6143</td>\n",
              "        </tr>\n",
              "        <tr>\n",
              "            <td>6</td>\n",
              "            <td>AC/DC</td>\n",
              "            <td>Put The Finger On You</td>\n",
              "            <td>Angus Young, Malcolm Young, Brian Johnson</td>\n",
              "            <td>Rock</td>\n",
              "            <td>6556</td>\n",
              "        </tr>\n",
              "        <tr>\n",
              "            <td>7</td>\n",
              "            <td>AC/DC</td>\n",
              "            <td>Let&#x27;s Get It Up</td>\n",
              "            <td>Angus Young, Malcolm Young, Brian Johnson</td>\n",
              "            <td>Rock</td>\n",
              "            <td>7457</td>\n",
              "        </tr>\n",
              "        <tr>\n",
              "            <td>8</td>\n",
              "            <td>AC/DC</td>\n",
              "            <td>Inject The Venom</td>\n",
              "            <td>Angus Young, Malcolm Young, Brian Johnson</td>\n",
              "            <td>Rock</td>\n",
              "            <td>6692</td>\n",
              "        </tr>\n",
              "        <tr>\n",
              "            <td>9</td>\n",
              "            <td>AC/DC</td>\n",
              "            <td>Snowballed</td>\n",
              "            <td>Angus Young, Malcolm Young, Brian Johnson</td>\n",
              "            <td>Rock</td>\n",
              "            <td>6444</td>\n",
              "        </tr>\n",
              "        <tr>\n",
              "            <td>10</td>\n",
              "            <td>AC/DC</td>\n",
              "            <td>Evil Walks</td>\n",
              "            <td>Angus Young, Malcolm Young, Brian Johnson</td>\n",
              "            <td>Rock</td>\n",
              "            <td>8409</td>\n",
              "        </tr>\n",
              "        <tr>\n",
              "            <td>11</td>\n",
              "            <td>AC/DC</td>\n",
              "            <td>C.O.D.</td>\n",
              "            <td>Angus Young, Malcolm Young, Brian Johnson</td>\n",
              "            <td>Rock</td>\n",
              "            <td>6412</td>\n",
              "        </tr>\n",
              "        <tr>\n",
              "            <td>12</td>\n",
              "            <td>AC/DC</td>\n",
              "            <td>Breaking The Rules</td>\n",
              "            <td>Angus Young, Malcolm Young, Brian Johnson</td>\n",
              "            <td>Rock</td>\n",
              "            <td>8395</td>\n",
              "        </tr>\n",
              "        <tr>\n",
              "            <td>13</td>\n",
              "            <td>AC/DC</td>\n",
              "            <td>Night Of The Long Knives</td>\n",
              "            <td>Angus Young, Malcolm Young, Brian Johnson</td>\n",
              "            <td>Rock</td>\n",
              "            <td>6549</td>\n",
              "        </tr>\n",
              "        <tr>\n",
              "            <td>14</td>\n",
              "            <td>AC/DC</td>\n",
              "            <td>Spellbound</td>\n",
              "            <td>Angus Young, Malcolm Young, Brian Johnson</td>\n",
              "            <td>Rock</td>\n",
              "            <td>8610</td>\n",
              "        </tr>\n",
              "        <tr>\n",
              "            <td>15</td>\n",
              "            <td>AC/DC</td>\n",
              "            <td>Go Down</td>\n",
              "            <td>AC/DC</td>\n",
              "            <td>Rock</td>\n",
              "            <td>10593</td>\n",
              "        </tr>\n",
              "        <tr>\n",
              "            <td>16</td>\n",
              "            <td>AC/DC</td>\n",
              "            <td>Dog Eat Dog</td>\n",
              "            <td>AC/DC</td>\n",
              "            <td>Rock</td>\n",
              "            <td>6867</td>\n",
              "        </tr>\n",
              "        <tr>\n",
              "            <td>17</td>\n",
              "            <td>AC/DC</td>\n",
              "            <td>Let There Be Rock</td>\n",
              "            <td>AC/DC</td>\n",
              "            <td>Rock</td>\n",
              "            <td>11739</td>\n",
              "        </tr>\n",
              "        <tr>\n",
              "            <td>18</td>\n",
              "            <td>AC/DC</td>\n",
              "            <td>Bad Boy Boogie</td>\n",
              "            <td>AC/DC</td>\n",
              "            <td>Rock</td>\n",
              "            <td>8570</td>\n",
              "        </tr>\n",
              "        <tr>\n",
              "            <td>19</td>\n",
              "            <td>AC/DC</td>\n",
              "            <td>Problem Child</td>\n",
              "            <td>AC/DC</td>\n",
              "            <td>Rock</td>\n",
              "            <td>10368</td>\n",
              "        </tr>\n",
              "        <tr>\n",
              "            <td>20</td>\n",
              "            <td>AC/DC</td>\n",
              "            <td>Overdose</td>\n",
              "            <td>AC/DC</td>\n",
              "            <td>Rock</td>\n",
              "            <td>11783</td>\n",
              "        </tr>\n",
              "        <tr>\n",
              "            <td>21</td>\n",
              "            <td>AC/DC</td>\n",
              "            <td>Hell Ain&#x27;t A Bad Place To Be</td>\n",
              "            <td>AC/DC</td>\n",
              "            <td>Rock</td>\n",
              "            <td>8136</td>\n",
              "        </tr>\n",
              "    </tbody>\n",
              "</table>"
            ]
          },
          "metadata": {},
          "execution_count": 51
        }
      ]
    }
  ],
  "metadata": {
    "kernelspec": {
      "display_name": "Python 3",
      "language": "python",
      "name": "python3"
    },
    "language_info": {
      "codemirror_mode": {
        "name": "ipython",
        "version": 3
      },
      "file_extension": ".py",
      "mimetype": "text/x-python",
      "name": "python",
      "nbconvert_exporter": "python",
      "pygments_lexer": "ipython3",
      "version": "3.10.4"
    },
    "colab": {
      "name": "notebook_challenge_007_level2.ipynb",
      "provenance": [],
      "include_colab_link": true
    }
  },
<<<<<<< HEAD
  "nbformat": 4,
  "nbformat_minor": 5
}
=======
  {
   "cell_type": "markdown",
   "id": "e0e85531",
   "metadata": {},
   "source": [
    "Execute a célula abaixo apenas uma vez."
   ]
  },
  {
   "cell_type": "code",
   "execution_count": null,
   "id": "7d725090",
   "metadata": {},
   "outputs": [],
   "source": [
    "%%bash\n",
    "\n",
    "rm -rf /tmp/github; mkdir -p /tmp/github; cd /tmp/github\n",
    "git clone https://github.com/romeritomorais/30-day-challenges-with-sql.git\n",
    "sh /tmp/github/30-day-challenges-with-sql/challenges/utils/install-miniconda.sh > /dev/null 2>&1\n",
    "sh /tmp/github/30-day-challenges-with-sql/challenges/utils/update-miniconda.sh > /dev/null 2>&1\n",
    "sh /tmp/github/30-day-challenges-with-sql/challenges/utils/upgrade-sqlite3.sh > /dev/null 2>&1"
   ]
  },
  {
   "cell_type": "markdown",
   "id": "467f1c4a",
   "metadata": {},
   "source": [
    "Neste desafio precisamos criar uma nova tabela chamada `Track2` oriunda da transformação das tabelas: `Track`, `Album`, `Artist` e `Genre`. Vale lembrar que a tabela `Track` é a tabela da esquerda que será a base para realizarmos os relacionamentos. Utilize JOIN para resolver este problema.\n",
    "\n",
    "Critério:  \n",
    "Escreva essa transformação em apenas uma query. Boa sorte!\n",
    "\n",
    "resultado esperado:  \n",
    "\n",
    "|TrackId|artista             |musica                                      |compositor                                                                 |genero            |size_mb\n",
    "|-------:|-------------------:|-------------------------------------------:|-------------------------------------------------------------------------:|-----------------:|-------\n",
    "|      1|AC/DC               |For Those About To Rock (We Salute You)     |Angus Young, Malcolm Young, Brian Johnson                                  |Rock              |  10908\n",
    "|      2|Accept              |Balls to the Wall                           |                                                                           |Rock              |   5381\n",
    "|      3|Accept              |Fast As a Shark                             |F. Baltes, S. Kaufman, U. Dirkscneider & W. Hoffman                        |Rock              |   3897\n",
    "|     4|Accept              |Restless and Wild                           |F. Baltes, R.A. Smith-Diesel, S. Kaufman, U. Dirkscneider & W. Hoffman     |Rock              |   4230\n",
    "|      5|Accept              |Princess of the Dawn                        |Deaffy & R.A. Smith-Diesel                                                 |Rock              |   6143\n",
    "|      6|AC/DC               |Put The Finger On You                       |Angus Young, Malcolm Young, Brian Johnson                                  |Rock              |   6556\n",
    "|      7|AC/DC               |Let's Get It Up                             |Angus Young, Malcolm Young, Brian Johnson                                  |Rock              |   7457\n",
    "|      8|AC/DC               |Inject The Venom                            |Angus Young, Malcolm Young, Brian Johnson                                  |Rock              |   6692\n",
    "|      9|AC/DC               |Snowballed                                  |Angus Young, Malcolm Young, Brian Johnson                                  |Rock              |   6444\n",
    "|     10|AC/DC               |Evil Walks                                  |Angus Young, Malcolm Young, Brian Johnson                                  |Rock              |   8409\n",
    "|     11|AC/DC               |C.O.D.                                      |Angus Young, Malcolm Young, Brian Johnson                                  |Rock              |   6412\n",
    "|     12|AC/DC               |Breaking The Rules                          |Angus Young, Malcolm Young, Brian Johnson                                  |Rock              |   8395\n",
    "|     13|AC/DC               |Night Of The Long Knives                    |Angus Young, Malcolm Young, Brian Johnson                                  |Rock              |   6549\n",
    "|     14|AC/DC               |Spellbound                                  |Angus Young, Malcolm Young, Brian Johnson                                  |Rock              |   8610\n",
    "|     15|AC/DC               |Go Down                                     |AC/DC                                                                      |Rock              |  10593\n",
    "|     16|AC/DC               |Dog Eat Dog                                 |AC/DC                                                                      |Rock              |   6867\n",
    "|     17|AC/DC               |Let There Be Rock                           |AC/DC                                                                      |Rock              |  11739\n",
    "|     18|AC/DC               |Bad Boy Boogie                              |AC/DC                                                                      |Rock              |   8570\n",
    "|     19|AC/DC               |Problem Child                               |AC/DC                                                                      |Rock              |  10368\n",
    "|     20|AC/DC               |Overdose                                    |AC/DC                                                                      |Rock              |  11783\n",
    "|     21|AC/DC               |Hell Ain't A Bad Place To Be                |AC/DC                                                                      |Rock              |   8136\n",
    "\n",
    "Na célula onde se encontra o `%%sql`, escreva sua query, sem deletar o comando. Exemplo:  \n",
    "```python\n",
    "%%sql\n",
    "select * from Customer\n",
    "```\n",
    "\n",
    "Para resolução utilize esse link: https://www.tutlane.com/tutorial/sqlite"
   ]
  },
  {
   "cell_type": "code",
   "execution_count": null,
   "id": "2b36ffcd-323a-452a-a6a1-433be0285405",
   "metadata": {},
   "outputs": [],
   "source": [
    "%load_ext sql\n",
    "%sql sqlite://///tmp/github/30-day-challenges-with-sql/challenges/utils/db/database.db3"
   ]
  },
  {
   "cell_type": "markdown",
   "id": "245c7915",
   "metadata": {},
   "source": [
    "explicação da implementação do código\n",
    "...."
   ]
  },
  {
   "cell_type": "code",
   "execution_count": null,
   "id": "275157e9",
   "metadata": {},
   "outputs": [],
   "source": [
    "%%sql\n"
   ]
  }
 ],
 "metadata": {
  "kernelspec": {
   "display_name": "Python 3",
   "language": "python",
   "name": "python3"
  },
  "language_info": {
   "codemirror_mode": {
    "name": "ipython",
    "version": 3
   },
   "file_extension": ".py",
   "mimetype": "text/x-python",
   "name": "python",
   "nbconvert_exporter": "python",
   "pygments_lexer": "ipython3",
   "version": "3.10.4"
  }
 },
 "nbformat": 4,
 "nbformat_minor": 5
}
>>>>>>> 964990ea40f6fcc026f97f0524c1a981b744adff
