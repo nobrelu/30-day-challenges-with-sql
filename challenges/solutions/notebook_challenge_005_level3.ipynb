{
  "cells": [
    {
      "cell_type": "markdown",
      "metadata": {
        "id": "view-in-github",
        "colab_type": "text"
      },
      "source": [
        "<a href=\"https://colab.research.google.com/github/nobrelu/30-day-challenges-with-sql/blob/main/challenges/notebooks/notebook_challenge_005_level3.ipynb\" target=\"_parent\"><img src=\"https://colab.research.google.com/assets/colab-badge.svg\" alt=\"Open In Colab\"/></a>"
      ]
    },
    {
      "cell_type": "markdown",
      "id": "160bbfb2",
      "metadata": {
        "id": "160bbfb2"
      },
      "source": [
        "\n",
        "# Por favor tente resolver o desafio sozinho, não pegue atalhos, tu consegue, é só colocar a cabeça para funcionar."
      ]
    },
    {
      "cell_type": "markdown",
      "id": "e0e85531",
      "metadata": {
        "id": "e0e85531"
      },
      "source": [
        "Execute a célula abaixo apenas uma vez."
      ]
    },
    {
      "cell_type": "code",
      "execution_count": 1,
      "id": "7d725090",
      "metadata": {
        "colab": {
          "base_uri": "https://localhost:8080/"
        },
        "id": "7d725090",
        "outputId": "6e9ae18a-8a9f-41be-d276-69a3d567faae"
      },
      "outputs": [
        {
          "output_type": "stream",
          "name": "stderr",
          "text": [
            "Cloning into '30-day-challenges-with-sql'...\n"
          ]
        }
      ],
      "source": [
        "%%bash\n",
        "\n",
        "rm -rf /tmp/github; mkdir -p /tmp/github; cd /tmp/github\n",
        "git clone https://github.com/romeritomorais/30-day-challenges-with-sql.git\n",
        "sh /tmp/github/30-day-challenges-with-sql/challenges/utils/install-miniconda.sh > /dev/null 2>&1\n",
        "sh /tmp/github/30-day-challenges-with-sql/challenges/utils/update-miniconda.sh > /dev/null 2>&1"
      ]
    },
    {
      "cell_type": "markdown",
      "id": "467f1c4a",
      "metadata": {
        "id": "467f1c4a"
      },
      "source": [
        "Nesse desafio eu preciso de uma transformação completa da tabela `Customer` \n",
        "1.concatene as colunas `Customer.FirstName` com `Customer.LastName` e gere uma coluna com a descrição `nome` onde apenas a primeira letra do nome seja Maiúscula.    \n",
        "2.concatene as colunas `Customer.City` com `Customer.State` e gere uma coluna com a descrição `cidade` onde apenas a coluna `Customer.State` seja Maiúscula. exemplo: belém-PA.     \n",
        "3.crie uma nova coluna denominada `cep` a partir da coluna `Customer.PostalCode` removendo todos os caracteres e convertendo o a coluna para o tipo de dados Integer.   \n",
        "4.a filtragem da tabela precisa pegar apenas os dados da país \"BRAZIL\" e o cep <> 0\n",
        "\n",
        "Critério:  \n",
        "e o critério principal é que voce escreva essa transformação em apenas uma query. Boa sorte\n",
        "\n",
        "\n",
        "resultado esperado:  \n",
        "\n",
        "|codigo|nome|endereco|cidade|pais|cep|telefone|Email\n",
        "|-----:|-----:|-----:|-----:|-----:|-----:|-----:|-----\n",
        "|1|Luís gonçalves|av. brigadeiro faria lima, 2170|são josé dos campos-SP|BRAZIL|12227000|551239235555|luisg@embraer.com.br\n",
        "|10|Eduardo martins|rua dr. falcão filho, 155|são paulo-SP|BRAZIL|1007010|551130335446|eduardo@woodstock.com.br\n",
        "|11|Alexandre rocha|av. paulista, 2022|são paulo-SP|BRAZIL|1310200|551130553278|alero@uol.com.br\n",
        "|12|Roberto almeida|praça pio x, 119|rio de janeiro-RJ|BRAZIL|20040020|552122717000|roberto.almeida@riotur.gov.br\n",
        "|13|Fernanda ramos|qe 7 bloco g|brasília-DF|BRAZIL|71020677|556133635547|fernadaramos4@uol.com.br\n",
        "\n",
        "Na celula onde tem `%%sql` tu vai escrever a query abaixo dela, exemplo:  \n",
        "```python\n",
        "%%sql\n",
        "select * from Customer\n",
        "```\n",
        "\n",
        "Para resolução tu podes usar a documentação do sqlite:https://www.sqlite.org/docs.html"
      ]
    },
    {
      "cell_type": "code",
      "execution_count": 2,
      "id": "981a5488",
      "metadata": {
        "colab": {
          "base_uri": "https://localhost:8080/",
          "height": 35
        },
        "id": "981a5488",
        "outputId": "b25a327c-6669-41d9-f8a7-e2023ef1baec"
      },
      "outputs": [
        {
          "output_type": "execute_result",
          "data": {
            "text/plain": [
              "'Connected: @//tmp/github/30-day-challenges-with-sql/challenges/utils/db/database.db'"
            ],
            "application/vnd.google.colaboratory.intrinsic+json": {
              "type": "string"
            }
          },
          "metadata": {},
          "execution_count": 2
        }
      ],
      "source": [
        "%load_ext sql\n",
        "%sql sqlite://///tmp/github/30-day-challenges-with-sql/challenges/utils/db/database.db"
      ]
    },
    {
      "cell_type": "code",
      "execution_count": 3,
      "id": "275157e9",
      "metadata": {
        "colab": {
          "base_uri": "https://localhost:8080/",
          "height": 182
        },
        "id": "275157e9",
        "outputId": "1e2097cd-aa3b-4ac4-ab6e-c5401a68fff1"
      },
      "outputs": [
        {
          "output_type": "stream",
          "name": "stdout",
          "text": [
            " * sqlite://///tmp/github/30-day-challenges-with-sql/challenges/utils/db/database.db\n",
            "Done.\n"
          ]
        },
        {
          "output_type": "execute_result",
          "data": {
            "text/plain": [
              "[(1, 'Luís gonçalves', 'av. brigadeiro faria lima, 2170', 'são josé dos campos-SP', 'BRAZIL', 12227000, '551239235555', 'luisg@embraer.com.br'),\n",
              " (10, 'Eduardo martins', 'rua dr. falcão filho, 155', 'são paulo-SP', 'BRAZIL', 1007010, '551130335446', 'eduardo@woodstock.com.br'),\n",
              " (11, 'Alexandre rocha', 'av. paulista, 2022', 'são paulo-SP', 'BRAZIL', 1310200, '551130553278', 'alero@uol.com.br'),\n",
              " (12, 'Roberto almeida', 'praça pio x, 119', 'rio de janeiro-RJ', 'BRAZIL', 20040020, '552122717000', 'roberto.almeida@riotur.gov.br'),\n",
              " (13, 'Fernanda ramos', 'qe 7 bloco g', 'brasília-DF', 'BRAZIL', 71020677, '556133635547', 'fernadaramos4@uol.com.br')]"
            ],
            "text/html": [
              "<table>\n",
              "    <thead>\n",
              "        <tr>\n",
              "            <th>codigo</th>\n",
              "            <th>nome</th>\n",
              "            <th>endereco</th>\n",
              "            <th>cidade</th>\n",
              "            <th>pais</th>\n",
              "            <th>cep</th>\n",
              "            <th>telefone</th>\n",
              "            <th>email</th>\n",
              "        </tr>\n",
              "    </thead>\n",
              "    <tbody>\n",
              "        <tr>\n",
              "            <td>1</td>\n",
              "            <td>Luís gonçalves</td>\n",
              "            <td>av. brigadeiro faria lima, 2170</td>\n",
              "            <td>são josé dos campos-SP</td>\n",
              "            <td>BRAZIL</td>\n",
              "            <td>12227000</td>\n",
              "            <td>551239235555</td>\n",
              "            <td>luisg@embraer.com.br</td>\n",
              "        </tr>\n",
              "        <tr>\n",
              "            <td>10</td>\n",
              "            <td>Eduardo martins</td>\n",
              "            <td>rua dr. falcão filho, 155</td>\n",
              "            <td>são paulo-SP</td>\n",
              "            <td>BRAZIL</td>\n",
              "            <td>1007010</td>\n",
              "            <td>551130335446</td>\n",
              "            <td>eduardo@woodstock.com.br</td>\n",
              "        </tr>\n",
              "        <tr>\n",
              "            <td>11</td>\n",
              "            <td>Alexandre rocha</td>\n",
              "            <td>av. paulista, 2022</td>\n",
              "            <td>são paulo-SP</td>\n",
              "            <td>BRAZIL</td>\n",
              "            <td>1310200</td>\n",
              "            <td>551130553278</td>\n",
              "            <td>alero@uol.com.br</td>\n",
              "        </tr>\n",
              "        <tr>\n",
              "            <td>12</td>\n",
              "            <td>Roberto almeida</td>\n",
              "            <td>praça pio x, 119</td>\n",
              "            <td>rio de janeiro-RJ</td>\n",
              "            <td>BRAZIL</td>\n",
              "            <td>20040020</td>\n",
              "            <td>552122717000</td>\n",
              "            <td>roberto.almeida@riotur.gov.br</td>\n",
              "        </tr>\n",
              "        <tr>\n",
              "            <td>13</td>\n",
              "            <td>Fernanda ramos</td>\n",
              "            <td>qe 7 bloco g</td>\n",
              "            <td>brasília-DF</td>\n",
              "            <td>BRAZIL</td>\n",
              "            <td>71020677</td>\n",
              "            <td>556133635547</td>\n",
              "            <td>fernadaramos4@uol.com.br</td>\n",
              "        </tr>\n",
              "    </tbody>\n",
              "</table>"
            ]
          },
          "metadata": {},
          "execution_count": 3
        }
      ],
      "source": [
        "%%sql\n",
        "select \n",
        "CustomerId as codigo\n",
        ",Upper(substr(FirstName,1,1)) || substr(FirstName,2) || ' ' || lower(LastName) as nome\n",
        ",lower(Address) as endereco\n",
        ",lower(City) || '-' || upper(State) as cidade\n",
        ",Upper(Country) as pais\n",
        ",cast(replace(PostalCode, '-', '') as int) as cep \n",
        ",replace(replace(replace(replace(replace(Phone, '+' , '' ), '-', ''), '(', ''), ')', ''), ' ', '') as telefone\n",
        ", Email as email\n",
        "from Customer where Country = 'Brazil' and cep <> 0\n"
      ]
    }
  ],
  "metadata": {
    "kernelspec": {
      "display_name": "Python 3",
      "language": "python",
      "name": "python3"
    },
    "language_info": {
      "codemirror_mode": {
        "name": "ipython",
        "version": 3
      },
      "file_extension": ".py",
      "mimetype": "text/x-python",
      "name": "python",
      "nbconvert_exporter": "python",
      "pygments_lexer": "ipython3",
      "version": "3.10.4"
    },
    "colab": {
      "name": "notebook_challenge_005_level3.ipynb",
      "provenance": [],
      "include_colab_link": true
    }
  },
<<<<<<< HEAD
  "nbformat": 4,
  "nbformat_minor": 5
}
=======
  {
   "cell_type": "markdown",
   "id": "e0e85531",
   "metadata": {},
   "source": [
    "Execute a célula abaixo apenas uma vez."
   ]
  },
  {
   "cell_type": "code",
   "execution_count": null,
   "id": "7d725090",
   "metadata": {},
   "outputs": [],
   "source": [
    "%%bash\n",
    "\n",
    "rm -rf /tmp/github; mkdir -p /tmp/github; cd /tmp/github\n",
    "git clone https://github.com/romeritomorais/30-day-challenges-with-sql.git\n",
    "sh /tmp/github/30-day-challenges-with-sql/challenges/utils/install-miniconda.sh > /dev/null 2>&1\n",
    "sh /tmp/github/30-day-challenges-with-sql/challenges/utils/update-miniconda.sh > /dev/null 2>&1\n",
    "sh /tmp/github/30-day-challenges-with-sql/challenges/utils/upgrade-sqlite3.sh > /dev/null 2>&1"
   ]
  },
  {
   "cell_type": "markdown",
   "id": "467f1c4a",
   "metadata": {},
   "source": [
    "Neste desafio precisaremos fazer uma transformação completa na tabela `Customer`! \n",
    "1.Concatene as colunas `Customer.FirstName` e `Customer.LastName`, gerando uma coluna `nome` onde apenas a primeira letra do nome seja Maiúscula. Exemplo: Fernanda Ramos    \n",
    "2.Concatene as colunas `Customer.City` e `Customer.State`, e gerando uma coluna com a descrição `cidade` onde apenas a coluna `Customer.State` seja Maiúscula. Exemplo: belém-PA.     \n",
    "3.Crie uma nova coluna chamada `cep` a partir da coluna `Customer.PostalCode` removendo todos os caracteres e convertendo o tipo de dados para Integer. \n",
    "4.Filtre a tabela para apresentear somente dados do país \"BRAZIL\" e cep <> 0\n",
    "\n",
    "Critério:  \n",
    "Escreva essa transformação em apenas uma query. Boa sorte!\n",
    "\n",
    "resultado esperado:  \n",
    "\n",
    "|codigo|nome|endereco|cidade|pais|cep|telefone|Email\n",
    "|-----:|-----:|-----:|-----:|-----:|-----:|-----:|-----\n",
    "|1|Luís gonçalves|av. brigadeiro faria lima, 2170|são josé dos campos-SP|BRAZIL|12227000|551239235555|luisg@embraer.com.br\n",
    "|10|Eduardo martins|rua dr. falcão filho, 155|são paulo-SP|BRAZIL|1007010|551130335446|eduardo@woodstock.com.br\n",
    "|11|Alexandre rocha|av. paulista, 2022|são paulo-SP|BRAZIL|1310200|551130553278|alero@uol.com.br\n",
    "|12|Roberto almeida|praça pio x, 119|rio de janeiro-RJ|BRAZIL|20040020|552122717000|roberto.almeida@riotur.gov.br\n",
    "|13|Fernanda ramos|qe 7 bloco g|brasília-DF|BRAZIL|71020677|556133635547|fernadaramos4@uol.com.br\n",
    "\n",
    "Na célula onde se encontra o `%%sql`, escreva sua query, sem deletar o comando. Exemplo:  \n",
    "```python\n",
    "%%sql\n",
    "select * from Customer\n",
    "```\n",
    "\n",
    "Para resolução utilize esse link: https://www.tutlane.com/tutorial/sqlite"
   ]
  },
  {
   "cell_type": "code",
   "execution_count": null,
   "id": "981a5488",
   "metadata": {},
   "outputs": [],
   "source": [
    "%load_ext sql\n",
    "%sql sqlite://///tmp/github/30-day-challenges-with-sql/challenges/utils/db/database.db3"
   ]
  },
  {
   "cell_type": "markdown",
   "id": "9110ad41",
   "metadata": {},
   "source": [
    "explicação da implementação do código\n",
    "...."
   ]
  },
  {
   "cell_type": "code",
   "execution_count": null,
   "id": "275157e9",
   "metadata": {},
   "outputs": [],
   "source": [
    "%%sql\n"
   ]
  }
 ],
 "metadata": {
  "kernelspec": {
   "display_name": "Python 3",
   "language": "python",
   "name": "python3"
  },
  "language_info": {
   "codemirror_mode": {
    "name": "ipython",
    "version": 3
   },
   "file_extension": ".py",
   "mimetype": "text/x-python",
   "name": "python",
   "nbconvert_exporter": "python",
   "pygments_lexer": "ipython3",
   "version": "3.10.4"
  }
 },
 "nbformat": 4,
 "nbformat_minor": 5
}
>>>>>>> 964990ea40f6fcc026f97f0524c1a981b744adff
