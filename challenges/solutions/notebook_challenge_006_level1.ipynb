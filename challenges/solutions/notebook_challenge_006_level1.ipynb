{
  "cells": [
    {
      "cell_type": "markdown",
      "metadata": {
        "id": "view-in-github",
        "colab_type": "text"
      },
      "source": [
        "<a href=\"https://colab.research.google.com/github/nobrelu/30-day-challenges-with-sql/blob/main/challenges/notebooks/notebook_challenge_006_level1.ipynb\" target=\"_parent\"><img src=\"https://colab.research.google.com/assets/colab-badge.svg\" alt=\"Open In Colab\"/></a>"
      ]
    },
    {
      "cell_type": "markdown",
      "id": "160bbfb2",
      "metadata": {
        "id": "160bbfb2"
      },
      "source": [
        "# Por favor tente resolver o desafio sozinho, não pegue atalhos, tu consegue, é só colocar a cabeça para funcionar."
      ]
    },
    {
      "cell_type": "markdown",
      "id": "e0e85531",
      "metadata": {
        "id": "e0e85531"
      },
      "source": [
        "Execute a célula abaixo apenas uma vez."
      ]
    },
    {
      "cell_type": "code",
      "execution_count": 4,
      "id": "7d725090",
      "metadata": {
        "id": "7d725090",
        "outputId": "886b6522-c35e-42d6-eea7-30a0522eeaf9",
        "colab": {
          "base_uri": "https://localhost:8080/"
        }
      },
      "outputs": [
        {
          "output_type": "stream",
          "name": "stderr",
          "text": [
            "Cloning into '30-day-challenges-with-sql'...\n"
          ]
        }
      ],
      "source": [
        "%%bash\n",
        "\n",
        "rm -rf /tmp/github; mkdir -p /tmp/github; cd /tmp/github\n",
        "git clone https://github.com/romeritomorais/30-day-challenges-with-sql.git\n",
        "sh /tmp/github/30-day-challenges-with-sql/challenges/utils/install-miniconda.sh > /dev/null 2>&1\n",
        "sh /tmp/github/30-day-challenges-with-sql/challenges/utils/update-miniconda.sh > /dev/null 2>&1"
      ]
    },
    {
      "cell_type": "markdown",
      "id": "467f1c4a",
      "metadata": {
        "id": "467f1c4a"
      },
      "source": [
        "Nesse desafio eu preciso da idade das pessoas da tabela `Employee` use a coluna BithDate para a transformação.\n",
        "\n",
        "Critério:  \n",
        "que voce escreva essa transformação em apenas uma query. Boa sorte.\n",
        "\n",
        "\n",
        "resultado esperado:  \n",
        "\n",
        "|LastName|ano_de_nascimento|idade\n",
        "|--------:|----------------:|-----\n",
        "|Adams   |1962             |   60\n",
        "|Edwards |1958             |   64\n",
        "|Peacock |1973             |   49\n",
        "|Park    |1947             |   75\n",
        "|Johnson |1965             |   57\n",
        "|Mitchell|1973             |   49\n",
        "|King    |1970             |   52\n",
        "|Callahan|1968             |   54\n",
        "\n",
        "Na celula onde tem `%%sql` tu vai escrever a query abaixo dela, exemplo:  \n",
        "```python\n",
        "%%sql\n",
        "select * from Customer\n",
        "```\n",
        "\n",
        "Para resolução tu podes usar a documentação do sqlite:https://www.sqlite.org/docs.html"
      ]
    },
    {
      "cell_type": "code",
      "execution_count": null,
      "id": "2b36ffcd-323a-452a-a6a1-433be0285405",
      "metadata": {
        "id": "2b36ffcd-323a-452a-a6a1-433be0285405"
      },
      "outputs": [],
      "source": [
        "%load_ext sql\n",
        "%sql sqlite://///tmp/github/30-day-challenges-with-sql/challenges/utils/db/database.db"
      ]
    },
    {
      "cell_type": "code",
      "execution_count": 35,
      "id": "275157e9",
      "metadata": {
        "id": "275157e9",
        "outputId": "5c49cf23-35b0-41e9-d3a0-8086f7e2d6d6",
        "colab": {
          "base_uri": "https://localhost:8080/",
          "height": 246
        }
      },
      "outputs": [
        {
          "output_type": "stream",
          "name": "stdout",
          "text": [
            " * sqlite://///tmp/github/30-day-challenges-with-sql/challenges/utils/db/database.db\n",
            "Done.\n"
          ]
        },
        {
          "output_type": "execute_result",
          "data": {
            "text/plain": [
              "[(1, 'Adams', 'Andrew', 'General Manager', None, '1962-02-18 00:00:00', '2002-08-14 00:00:00', '11120 Jasper Ave NW', 'Edmonton', 'AB', 'Canada', 'T5K 2N1', '+1 (780) 428-9482', '+1 (780) 428-3457', 'andrew@chinookcorp.com'),\n",
              " (2, 'Edwards', 'Nancy', 'Sales Manager', 1, '1958-12-08 00:00:00', '2002-05-01 00:00:00', '825 8 Ave SW', 'Calgary', 'AB', 'Canada', 'T2P 2T3', '+1 (403) 262-3443', '+1 (403) 262-3322', 'nancy@chinookcorp.com'),\n",
              " (3, 'Peacock', 'Jane', 'Sales Support Agent', 2, '1973-08-29 00:00:00', '2002-04-01 00:00:00', '1111 6 Ave SW', 'Calgary', 'AB', 'Canada', 'T2P 5M5', '+1 (403) 262-3443', '+1 (403) 262-6712', 'jane@chinookcorp.com'),\n",
              " (4, 'Park', 'Margaret', 'Sales Support Agent', 2, '1947-09-19 00:00:00', '2003-05-03 00:00:00', '683 10 Street SW', 'Calgary', 'AB', 'Canada', 'T2P 5G3', '+1 (403) 263-4423', '+1 (403) 263-4289', 'margaret@chinookcorp.com'),\n",
              " (5, 'Johnson', 'Steve', 'Sales Support Agent', 2, '1965-03-03 00:00:00', '2003-10-17 00:00:00', '7727B 41 Ave', 'Calgary', 'AB', 'Canada', 'T3B 1Y7', '1 (780) 836-9987', '1 (780) 836-9543', 'steve@chinookcorp.com'),\n",
              " (6, 'Mitchell', 'Michael', 'IT Manager', 1, '1973-07-01 00:00:00', '2003-10-17 00:00:00', '5827 Bowness Road NW', 'Calgary', 'AB', 'Canada', 'T3B 0C5', '+1 (403) 246-9887', '+1 (403) 246-9899', 'michael@chinookcorp.com'),\n",
              " (7, 'King', 'Robert', 'IT Staff', 6, '1970-05-29 00:00:00', '2004-01-02 00:00:00', '590 Columbia Boulevard West', 'Lethbridge', 'AB', 'Canada', 'T1K 5N8', '+1 (403) 456-9986', '+1 (403) 456-8485', 'robert@chinookcorp.com'),\n",
              " (8, 'Callahan', 'Laura', 'IT Staff', 6, '1968-01-09 00:00:00', '2004-03-04 00:00:00', '923 7 ST NW', 'Lethbridge', 'AB', 'Canada', 'T1H 1Y8', '+1 (403) 467-3351', '+1 (403) 467-8772', 'laura@chinookcorp.com')]"
            ],
            "text/html": [
              "<table>\n",
              "    <thead>\n",
              "        <tr>\n",
              "            <th>EmployeeId</th>\n",
              "            <th>LastName</th>\n",
              "            <th>FirstName</th>\n",
              "            <th>Title</th>\n",
              "            <th>ReportsTo</th>\n",
              "            <th>BirthDate</th>\n",
              "            <th>HireDate</th>\n",
              "            <th>Address</th>\n",
              "            <th>City</th>\n",
              "            <th>State</th>\n",
              "            <th>Country</th>\n",
              "            <th>PostalCode</th>\n",
              "            <th>Phone</th>\n",
              "            <th>Fax</th>\n",
              "            <th>Email</th>\n",
              "        </tr>\n",
              "    </thead>\n",
              "    <tbody>\n",
              "        <tr>\n",
              "            <td>1</td>\n",
              "            <td>Adams</td>\n",
              "            <td>Andrew</td>\n",
              "            <td>General Manager</td>\n",
              "            <td>None</td>\n",
              "            <td>1962-02-18 00:00:00</td>\n",
              "            <td>2002-08-14 00:00:00</td>\n",
              "            <td>11120 Jasper Ave NW</td>\n",
              "            <td>Edmonton</td>\n",
              "            <td>AB</td>\n",
              "            <td>Canada</td>\n",
              "            <td>T5K 2N1</td>\n",
              "            <td>+1 (780) 428-9482</td>\n",
              "            <td>+1 (780) 428-3457</td>\n",
              "            <td>andrew@chinookcorp.com</td>\n",
              "        </tr>\n",
              "        <tr>\n",
              "            <td>2</td>\n",
              "            <td>Edwards</td>\n",
              "            <td>Nancy</td>\n",
              "            <td>Sales Manager</td>\n",
              "            <td>1</td>\n",
              "            <td>1958-12-08 00:00:00</td>\n",
              "            <td>2002-05-01 00:00:00</td>\n",
              "            <td>825 8 Ave SW</td>\n",
              "            <td>Calgary</td>\n",
              "            <td>AB</td>\n",
              "            <td>Canada</td>\n",
              "            <td>T2P 2T3</td>\n",
              "            <td>+1 (403) 262-3443</td>\n",
              "            <td>+1 (403) 262-3322</td>\n",
              "            <td>nancy@chinookcorp.com</td>\n",
              "        </tr>\n",
              "        <tr>\n",
              "            <td>3</td>\n",
              "            <td>Peacock</td>\n",
              "            <td>Jane</td>\n",
              "            <td>Sales Support Agent</td>\n",
              "            <td>2</td>\n",
              "            <td>1973-08-29 00:00:00</td>\n",
              "            <td>2002-04-01 00:00:00</td>\n",
              "            <td>1111 6 Ave SW</td>\n",
              "            <td>Calgary</td>\n",
              "            <td>AB</td>\n",
              "            <td>Canada</td>\n",
              "            <td>T2P 5M5</td>\n",
              "            <td>+1 (403) 262-3443</td>\n",
              "            <td>+1 (403) 262-6712</td>\n",
              "            <td>jane@chinookcorp.com</td>\n",
              "        </tr>\n",
              "        <tr>\n",
              "            <td>4</td>\n",
              "            <td>Park</td>\n",
              "            <td>Margaret</td>\n",
              "            <td>Sales Support Agent</td>\n",
              "            <td>2</td>\n",
              "            <td>1947-09-19 00:00:00</td>\n",
              "            <td>2003-05-03 00:00:00</td>\n",
              "            <td>683 10 Street SW</td>\n",
              "            <td>Calgary</td>\n",
              "            <td>AB</td>\n",
              "            <td>Canada</td>\n",
              "            <td>T2P 5G3</td>\n",
              "            <td>+1 (403) 263-4423</td>\n",
              "            <td>+1 (403) 263-4289</td>\n",
              "            <td>margaret@chinookcorp.com</td>\n",
              "        </tr>\n",
              "        <tr>\n",
              "            <td>5</td>\n",
              "            <td>Johnson</td>\n",
              "            <td>Steve</td>\n",
              "            <td>Sales Support Agent</td>\n",
              "            <td>2</td>\n",
              "            <td>1965-03-03 00:00:00</td>\n",
              "            <td>2003-10-17 00:00:00</td>\n",
              "            <td>7727B 41 Ave</td>\n",
              "            <td>Calgary</td>\n",
              "            <td>AB</td>\n",
              "            <td>Canada</td>\n",
              "            <td>T3B 1Y7</td>\n",
              "            <td>1 (780) 836-9987</td>\n",
              "            <td>1 (780) 836-9543</td>\n",
              "            <td>steve@chinookcorp.com</td>\n",
              "        </tr>\n",
              "        <tr>\n",
              "            <td>6</td>\n",
              "            <td>Mitchell</td>\n",
              "            <td>Michael</td>\n",
              "            <td>IT Manager</td>\n",
              "            <td>1</td>\n",
              "            <td>1973-07-01 00:00:00</td>\n",
              "            <td>2003-10-17 00:00:00</td>\n",
              "            <td>5827 Bowness Road NW</td>\n",
              "            <td>Calgary</td>\n",
              "            <td>AB</td>\n",
              "            <td>Canada</td>\n",
              "            <td>T3B 0C5</td>\n",
              "            <td>+1 (403) 246-9887</td>\n",
              "            <td>+1 (403) 246-9899</td>\n",
              "            <td>michael@chinookcorp.com</td>\n",
              "        </tr>\n",
              "        <tr>\n",
              "            <td>7</td>\n",
              "            <td>King</td>\n",
              "            <td>Robert</td>\n",
              "            <td>IT Staff</td>\n",
              "            <td>6</td>\n",
              "            <td>1970-05-29 00:00:00</td>\n",
              "            <td>2004-01-02 00:00:00</td>\n",
              "            <td>590 Columbia Boulevard West</td>\n",
              "            <td>Lethbridge</td>\n",
              "            <td>AB</td>\n",
              "            <td>Canada</td>\n",
              "            <td>T1K 5N8</td>\n",
              "            <td>+1 (403) 456-9986</td>\n",
              "            <td>+1 (403) 456-8485</td>\n",
              "            <td>robert@chinookcorp.com</td>\n",
              "        </tr>\n",
              "        <tr>\n",
              "            <td>8</td>\n",
              "            <td>Callahan</td>\n",
              "            <td>Laura</td>\n",
              "            <td>IT Staff</td>\n",
              "            <td>6</td>\n",
              "            <td>1968-01-09 00:00:00</td>\n",
              "            <td>2004-03-04 00:00:00</td>\n",
              "            <td>923 7 ST NW</td>\n",
              "            <td>Lethbridge</td>\n",
              "            <td>AB</td>\n",
              "            <td>Canada</td>\n",
              "            <td>T1H 1Y8</td>\n",
              "            <td>+1 (403) 467-3351</td>\n",
              "            <td>+1 (403) 467-8772</td>\n",
              "            <td>laura@chinookcorp.com</td>\n",
              "        </tr>\n",
              "    </tbody>\n",
              "</table>"
            ]
          },
          "metadata": {},
          "execution_count": 35
        }
      ],
      "source": [
        "%%sql\n",
        "select \n",
        "*\n",
        "\n",
        "from Employee limit 10"
      ]
    },
    {
      "cell_type": "code",
      "source": [
        "%%sql\n",
        "select \n",
        "LastName\n",
        ",cast(substr(BirthDate,1,4) as int) as ano_de_nascimento \n",
        ",cast(substr(DATETIME('now'),1,4) as int) - cast(substr(BirthDate,1,4) as int) as idade\n",
        "\n",
        "from Employee "
      ],
      "metadata": {
        "id": "Z9W0c5m3ThxP",
        "outputId": "61727299-7cb5-43c9-d938-8c6bcf7e600f",
        "colab": {
          "base_uri": "https://localhost:8080/",
          "height": 246
        }
      },
      "id": "Z9W0c5m3ThxP",
      "execution_count": 34,
      "outputs": [
        {
          "output_type": "stream",
          "name": "stdout",
          "text": [
            " * sqlite://///tmp/github/30-day-challenges-with-sql/challenges/utils/db/database.db\n",
            "Done.\n"
          ]
        },
        {
          "output_type": "execute_result",
          "data": {
            "text/plain": [
              "[('Adams', 1962, 60),\n",
              " ('Edwards', 1958, 64),\n",
              " ('Peacock', 1973, 49),\n",
              " ('Park', 1947, 75),\n",
              " ('Johnson', 1965, 57),\n",
              " ('Mitchell', 1973, 49),\n",
              " ('King', 1970, 52),\n",
              " ('Callahan', 1968, 54)]"
            ],
            "text/html": [
              "<table>\n",
              "    <thead>\n",
              "        <tr>\n",
              "            <th>LastName</th>\n",
              "            <th>ano_de_nascimento</th>\n",
              "            <th>idade</th>\n",
              "        </tr>\n",
              "    </thead>\n",
              "    <tbody>\n",
              "        <tr>\n",
              "            <td>Adams</td>\n",
              "            <td>1962</td>\n",
              "            <td>60</td>\n",
              "        </tr>\n",
              "        <tr>\n",
              "            <td>Edwards</td>\n",
              "            <td>1958</td>\n",
              "            <td>64</td>\n",
              "        </tr>\n",
              "        <tr>\n",
              "            <td>Peacock</td>\n",
              "            <td>1973</td>\n",
              "            <td>49</td>\n",
              "        </tr>\n",
              "        <tr>\n",
              "            <td>Park</td>\n",
              "            <td>1947</td>\n",
              "            <td>75</td>\n",
              "        </tr>\n",
              "        <tr>\n",
              "            <td>Johnson</td>\n",
              "            <td>1965</td>\n",
              "            <td>57</td>\n",
              "        </tr>\n",
              "        <tr>\n",
              "            <td>Mitchell</td>\n",
              "            <td>1973</td>\n",
              "            <td>49</td>\n",
              "        </tr>\n",
              "        <tr>\n",
              "            <td>King</td>\n",
              "            <td>1970</td>\n",
              "            <td>52</td>\n",
              "        </tr>\n",
              "        <tr>\n",
              "            <td>Callahan</td>\n",
              "            <td>1968</td>\n",
              "            <td>54</td>\n",
              "        </tr>\n",
              "    </tbody>\n",
              "</table>"
            ]
          },
          "metadata": {},
          "execution_count": 34
        }
      ]
    }
  ],
  "metadata": {
    "kernelspec": {
      "display_name": "Python 3",
      "language": "python",
      "name": "python3"
    },
    "language_info": {
      "codemirror_mode": {
        "name": "ipython",
        "version": 3
      },
      "file_extension": ".py",
      "mimetype": "text/x-python",
      "name": "python",
      "nbconvert_exporter": "python",
      "pygments_lexer": "ipython3",
      "version": "3.10.4"
    },
    "colab": {
      "name": "notebook_challenge_006_level1.ipynb",
      "provenance": [],
      "include_colab_link": true
    }
  },
<<<<<<< HEAD
  "nbformat": 4,
  "nbformat_minor": 5
}
=======
  {
   "cell_type": "markdown",
   "id": "e0e85531",
   "metadata": {},
   "source": [
    "Execute a célula abaixo apenas uma vez."
   ]
  },
  {
   "cell_type": "code",
   "execution_count": null,
   "id": "7d725090",
   "metadata": {},
   "outputs": [],
   "source": [
    "%%bash\n",
    "\n",
    "rm -rf /tmp/github; mkdir -p /tmp/github; cd /tmp/github\n",
    "git clone https://github.com/romeritomorais/30-day-challenges-with-sql.git\n",
    "sh /tmp/github/30-day-challenges-with-sql/challenges/utils/install-miniconda.sh > /dev/null 2>&1\n",
    "sh /tmp/github/30-day-challenges-with-sql/challenges/utils/update-miniconda.sh > /dev/null 2>&1\n",
    "sh /tmp/github/30-day-challenges-with-sql/challenges/utils/upgrade-sqlite3.sh > /dev/null 2>&1"
   ]
  },
  {
   "cell_type": "markdown",
   "id": "467f1c4a",
   "metadata": {},
   "source": [
    "Nesse desafio precisamos da idade das pessoas que estão na tabela `Employee`. Use a coluna `BithDate` para calcular.\n",
    "\n",
    "Critério:  \n",
    "Escreva essa transformação em apenas uma query. Boa sorte!\n",
    "\n",
    "resultado esperado:  \n",
    "\n",
    "|LastName|ano_de_nascimento|idade\n",
    "|--------:|----------------:|-----\n",
    "|Adams   |1962             |   60\n",
    "|Edwards |1958             |   64\n",
    "|Peacock |1973             |   49\n",
    "|Park    |1947             |   75\n",
    "|Johnson |1965             |   57\n",
    "|Mitchell|1973             |   49\n",
    "|King    |1970             |   52\n",
    "|Callahan|1968             |   54\n",
    "\n",
    "Na célula onde se encontra o `%%sql`, escreva sua query, sem deletar o comando. Exemplo:  \n",
    "```python\n",
    "%%sql\n",
    "select * from Customer\n",
    "```\n",
    "\n",
    "Para resolução utilize esse link: https://www.tutlane.com/tutorial/sqlite"
   ]
  },
  {
   "cell_type": "code",
   "execution_count": null,
   "id": "2b36ffcd-323a-452a-a6a1-433be0285405",
   "metadata": {},
   "outputs": [],
   "source": [
    "%load_ext sql\n",
    "%sql sqlite://///tmp/github/30-day-challenges-with-sql/challenges/utils/db/database.db3"
   ]
  },
  {
   "cell_type": "markdown",
   "id": "7b4730c3",
   "metadata": {},
   "source": [
    "explicação da implementação do código\n",
    "...."
   ]
  },
  {
   "cell_type": "code",
   "execution_count": null,
   "id": "275157e9",
   "metadata": {},
   "outputs": [],
   "source": [
    "%%sql\n"
   ]
  }
 ],
 "metadata": {
  "kernelspec": {
   "display_name": "Python 3",
   "language": "python",
   "name": "python3"
  },
  "language_info": {
   "codemirror_mode": {
    "name": "ipython",
    "version": 3
   },
   "file_extension": ".py",
   "mimetype": "text/x-python",
   "name": "python",
   "nbconvert_exporter": "python",
   "pygments_lexer": "ipython3",
   "version": "3.10.4"
  }
 },
 "nbformat": 4,
 "nbformat_minor": 5
}
>>>>>>> 964990ea40f6fcc026f97f0524c1a981b744adff
